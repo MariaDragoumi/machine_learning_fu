{
  "nbformat": 4,
  "nbformat_minor": 0,
  "metadata": {
    "kernelspec": {
      "display_name": "Python 3",
      "language": "python",
      "name": "python3"
    },
    "language_info": {
      "codemirror_mode": {
        "name": "ipython",
        "version": 3
      },
      "file_extension": ".py",
      "mimetype": "text/x-python",
      "name": "python",
      "nbconvert_exporter": "python",
      "pygments_lexer": "ipython3",
      "version": "3.8.5"
    },
    "colab": {
      "name": "Linear Regression: Trump vs Biden.ipynb",
      "provenance": [],
      "collapsed_sections": []
    }
  },
  "cells": [
    {
      "cell_type": "code",
      "metadata": {
        "id": "JiaPQ9h-URsq"
      },
      "source": [
        "import os\n",
        "import numpy as np\n",
        "import pandas as pd\n",
        "import matplotlib\n",
        "import matplotlib.pyplot as plt\n",
        "from enum import Enum"
      ],
      "execution_count": 9,
      "outputs": []
    },
    {
      "cell_type": "code",
      "metadata": {
        "id": "RA9k0GvvURtB"
      },
      "source": [
        "class Colors(Enum):\n",
        "    blue = '#0A85FF'\n",
        "    darkblue = '#00264D'\n",
        "    green = '#99CC00'\n",
        "    darkgreen = '#739900'"
      ],
      "execution_count": 10,
      "outputs": []
    },
    {
      "cell_type": "code",
      "metadata": {
        "id": "veSfDjzDURtL"
      },
      "source": [
        "battleground_path = '/content/drive/My Drive/ML_Class_2020/Linear Regression/battleground-state-changes.csv'\n",
        "df = pd.read_csv(battleground_path)"
      ],
      "execution_count": 11,
      "outputs": []
    },
    {
      "cell_type": "code",
      "metadata": {
        "id": "MYQXlXm0URtT"
      },
      "source": [
        "# Restructure data frame for easier access to Biden and Trump votes\n",
        "\n",
        "def get_candidate_votes(row):\n",
        "    if row['leading_candidate_name'] == 'Biden':\n",
        "        row['biden_votes'] = row['leading_candidate_votes']\n",
        "        row['trump_votes'] = row['trailing_candidate_votes']\n",
        "    elif row['leading_candidate_name'] == 'Trump':\n",
        "        row['biden_votes'] = row['trailing_candidate_votes']\n",
        "        row['trump_votes'] = row['leading_candidate_votes']\n",
        "    return row\n",
        "\n",
        "df = df.apply(get_candidate_votes, axis=1)"
      ],
      "execution_count": null,
      "outputs": []
    },
    {
      "cell_type": "code",
      "metadata": {
        "id": "9fa-LOm9KwfJ",
        "outputId": "5cfa00ef-ea56-403d-c579-f5d1b4dd0f05",
        "colab": {
          "base_uri": "https://localhost:8080/"
        }
      },
      "source": [
        "class LinearRegression():\n",
        "  def __init__(self, w, b):\n",
        "    self.w = w\n",
        "    self.b = b\n",
        "\n",
        "  def fit(X,y):\n",
        "    # Define the Linear Regression here\n",
        "    w = 0\n",
        "    b = 0\n",
        "    return LinearRegression(w,b)\n",
        "  \n",
        "  def predict(x):\n",
        "    \"\"\" \n",
        "    Define the line here.\n",
        "    Map x to it's y coordinates. The set {(x,y) | x from input, y from output} \n",
        "    should define your line.\n",
        "    In this case x will be percentages reported like\n",
        "    np.linspace(0.94, 1, 100).reshape([-1,1]) from 94% to 100%\n",
        "    in Georgia\n",
        "    \"\"\"\n",
        "\n",
        "    return y\n",
        "\n"
      ],
      "execution_count": 22,
      "outputs": [
        {
          "output_type": "stream",
          "text": [
            "0\n"
          ],
          "name": "stdout"
        }
      ]
    },
    {
      "cell_type": "code",
      "metadata": {
        "id": "TUAaDSMxURtZ"
      },
      "source": [
        "#Pennsylvania\n",
        "df_py = df[df['state'] == 'Pennsylvania (EV: 20)']\n",
        "df_py['percent_reporting'] = df_py['total_votes_count'] / int(7e+6)\n",
        "df_py['trump_lead'] = (df_py['trump_votes'] - df_py['biden_votes']) / df_py['total_votes_count']\n",
        "df_py = df_py.sort_values('percent_reporting', axis=0, ascending=False)\n",
        "\n",
        "# Only view votes that were counted before 90% were reported\n",
        "df_py = df_py[df_py['percent_reporting'] <= 0.9]\n",
        "\n",
        "X = df_py['percent_reporting'].to_numpy().reshape([-1, 1])\n",
        "y = df_py['trump_lead'].to_numpy()\n",
        "\n",
        "# Fit X to y using Linear Regression\n",
        "linear_py = LinearRegression().fit(X, y)\n",
        "\n",
        "\n",
        "#Georgia\n",
        "df_ga = df[df['state'] == 'Georgia (EV: 16)']\n",
        "df_ga['percent_reporting'] = df_ga['total_votes_count'] / int(5.025e+6)\n",
        "df_ga['trump_lead'] = (df_ga['trump_votes'] - df_ga['biden_votes']) / df_ga['total_votes_count']\n",
        "df_ga = df_ga.sort_values('percent_reporting', axis=0, ascending=False)\n",
        "\n",
        "# Only view votes that were counted before 97% were reported\n",
        "df_ga = df_ga[df_ga['percent_reporting'] <= 0.97]\n",
        "\n",
        "X = df_ga['percent_reporting'].to_numpy().reshape([-1, 1])\n",
        "y = df_ga['trump_lead'].to_numpy()\n",
        "\n",
        "# Fit X to y using Linear Regression\n",
        "linear_ga = LinearRegression().fit(X, y)\n",
        "\n",
        "fig, ax = plt.subplots(1, 2, figsize=(20, 10))\n",
        "ax[0].scatter(df_py['percent_reporting'] * 100, df_py['trump_lead'] * 100, marker='x', s=100, color=Colors.blue.value)\n",
        "x = np.linspace(0.8, 1, 100).reshape([-1,1])\n",
        "y = linear_py.predict(x)\n",
        "ax[0].set_xlim([85, 100])\n",
        "ax[0].set_xticks(range(80, 101, 2))\n",
        "ax[0].plot(x * 100, y * 100, linestyle='--', color=Colors.darkblue.value)\n",
        "ax[0].hlines(y=0, xmin=80, xmax=100, linestyle='--', color='black')\n",
        "ax[0].set_title('Pennsylvania (Expected total vote = 7.000.000)')\n",
        "\n",
        "ax[1].scatter(df_ga['percent_reporting'] * 100, df_ga['trump_lead'] * 100, marker='x', s=100, color=Colors.green.value)\n",
        "x = np.linspace(0.94, 1, 100).reshape([-1,1])\n",
        "y = linear_ga.predict(x)\n",
        "ax[1].set_xlim([94, 100])\n",
        "ax[1].set_xticks(range(94, 101, 1))\n",
        "ax[1].plot(x * 100, y * 100, linestyle='--', color=Colors.darkgreen.value)\n",
        "ax[1].hlines(y=0, xmin=94, xmax=100, linestyle='--', color='black')\n",
        "ax[1].set_title('Georgia (Expected total vote = 5.025.000)')\n",
        "\n",
        "ax[0].set_ylabel(\"Percent reporting\")\n",
        "ax[0].set_xlabel(\"Trump's percentage lead\")\n",
        "ax[1].set_xlabel(\"Trump's percentage lead\")\n",
        "# plt.savefig('trump_lead.svg', transparent=True)"
      ],
      "execution_count": null,
      "outputs": []
    },
    {
      "cell_type": "markdown",
      "metadata": {
        "id": "tcT3hCJUQOQ8"
      },
      "source": [
        "At what percentage of reported votes will Biden lead over Trump?"
      ]
    }
  ]
}